{
 "cells": [
  {
   "cell_type": "code",
   "execution_count": 1,
   "id": "749bc8db",
   "metadata": {},
   "outputs": [
    {
     "name": "stdout",
     "output_type": "stream",
     "text": [
      "I'm Shahadot Hossain Linkon\n"
     ]
    }
   ],
   "source": [
    "#1. Print your name.\n",
    "\n",
    "print(\"I'm Shahadot Hossain Linkon\")"
   ]
  },
  {
   "cell_type": "code",
   "execution_count": 2,
   "id": "4bae823b",
   "metadata": {},
   "outputs": [
    {
     "name": "stdout",
     "output_type": "stream",
     "text": [
      "Input Your Batch Number : 4\n",
      "Your Batch Number is  4\n"
     ]
    }
   ],
   "source": [
    "#2. Input your batch number using input() function.\n",
    "\n",
    "Batch_Number = input(\"Input Your Batch Number : \")\n",
    "print(\"Your Batch Number is \",Batch_Number)"
   ]
  },
  {
   "cell_type": "code",
   "execution_count": 3,
   "id": "97a70103",
   "metadata": {},
   "outputs": [
    {
     "name": "stdout",
     "output_type": "stream",
     "text": [
      "Python\n",
      "Python for beginners\n",
      "Python-Django is Awesome\n"
     ]
    }
   ],
   "source": [
    "#3. Create 5 different valid Variables and print.\n",
    "\n",
    "name = 'Python'\n",
    "print(name)  \n",
    "\n",
    "message = 'Python for beginners'\n",
    "print(message)\n",
    "\n",
    "x = \"Python-Django\"\n",
    "y = \"is\"\n",
    "z = \"Awesome\"\n",
    "print(x,y,z)"
   ]
  },
  {
   "cell_type": "code",
   "execution_count": 4,
   "id": "b63989fa",
   "metadata": {},
   "outputs": [
    {
     "name": "stdout",
     "output_type": "stream",
     "text": [
      "My Name is Shahadot Hossain Linkon\n"
     ]
    }
   ],
   "source": [
    "# 4. Create Pascal Case Variable.\n",
    "\n",
    "My_name = 'Shahadot Hossain Linkon'\n",
    "print(\"My Name is\", My_name)"
   ]
  },
  {
   "cell_type": "code",
   "execution_count": 5,
   "id": "b1ce1740",
   "metadata": {},
   "outputs": [
    {
     "name": "stdout",
     "output_type": "stream",
     "text": [
      "x : 50\n",
      "y : 50\n",
      "z : 50\n"
     ]
    }
   ],
   "source": [
    "# 5. Assign a single value to Multiple variables.\n",
    "\n",
    "x = y = z = 50\n",
    "\n",
    "print(\"x :\", x)\n",
    "print(\"y :\", y)\n",
    "print(\"z :\", z)"
   ]
  },
  {
   "cell_type": "code",
   "execution_count": 6,
   "id": "467b28e4",
   "metadata": {},
   "outputs": [
    {
     "name": "stdout",
     "output_type": "stream",
     "text": [
      "Enter a float:20.23\n",
      "The float value of x:  20.23\n"
     ]
    }
   ],
   "source": [
    "# 6. Input float value using input().\n",
    "\n",
    "x=input(\"Enter a float:\")\n",
    "print(\"The float value of x: \", x)"
   ]
  },
  {
   "cell_type": "code",
   "execution_count": 7,
   "id": "f418da15",
   "metadata": {},
   "outputs": [
    {
     "name": "stdout",
     "output_type": "stream",
     "text": [
      "WELCOME TO DJANGO FOR WEB AND AI\n"
     ]
    }
   ],
   "source": [
    "# 7. a = ‘Welcome to Django for web and Ai’ convert into upper case.\n",
    "\n",
    "a = \"Welcome to Django for web and Ai\"\n",
    "print(a.upper())"
   ]
  },
  {
   "cell_type": "code",
   "execution_count": 8,
   "id": "dfa638b4",
   "metadata": {},
   "outputs": [
    {
     "name": "stdout",
     "output_type": "stream",
     "text": [
      "Python\n"
     ]
    }
   ],
   "source": [
    "# 8. b = ‘ Python’remove whitespace.\n",
    "\n",
    "b = '      Python'\n",
    "print(b.strip())"
   ]
  },
  {
   "cell_type": "code",
   "execution_count": 9,
   "id": "1b4e2f97",
   "metadata": {},
   "outputs": [
    {
     "name": "stdout",
     "output_type": "stream",
     "text": [
      "Float value of c: 60.0\n",
      "Float value of d: 22.0\n"
     ]
    }
   ],
   "source": [
    "# 9. c = 60, d= 22 ‘Conversion int to float’.\n",
    "\n",
    "c = 60\n",
    "d = 22\n",
    "\n",
    "print(\"Float value of c:\", float(c))\n",
    "print(\"Float value of d:\", float(d))"
   ]
  },
  {
   "cell_type": "code",
   "execution_count": 10,
   "id": "2f6f9440",
   "metadata": {},
   "outputs": [
    {
     "name": "stdout",
     "output_type": "stream",
     "text": [
      "My Information:\n",
      "Name: Shahadot Hossain Linkon\n",
      "Age: 25\n",
      "Depertment: Computer Science & Engineering\n",
      "Location: Rangpur\n",
      "Email: linkonrpi475@gmail.com\n"
     ]
    }
   ],
   "source": [
    "# 10. Create a dictionary & print your info.\n",
    "\n",
    "my_info = {\n",
    "    \"name\": \"Shahadot Hossain Linkon\",\n",
    "    \"age\": 25,\n",
    "    \"depertment\": \"Computer Science & Engineering\",\n",
    "    \"location\": \"Rangpur\",\n",
    "    \"email\": \"linkonrpi475@gmail.com\",\n",
    "}\n",
    "\n",
    "# Print the dictionary\n",
    "print(\"My Information:\")\n",
    "print(\"Name:\", my_info[\"name\"])\n",
    "print(\"Age:\", my_info[\"age\"])\n",
    "print(\"Depertment:\", my_info[\"depertment\"])\n",
    "print(\"Location:\", my_info[\"location\"])\n",
    "print(\"Email:\", my_info[\"email\"])"
   ]
  },
  {
   "cell_type": "code",
   "execution_count": null,
   "id": "30e12af1",
   "metadata": {},
   "outputs": [],
   "source": []
  }
 ],
 "metadata": {
  "kernelspec": {
   "display_name": "Python 3 (ipykernel)",
   "language": "python",
   "name": "python3"
  },
  "language_info": {
   "codemirror_mode": {
    "name": "ipython",
    "version": 3
   },
   "file_extension": ".py",
   "mimetype": "text/x-python",
   "name": "python",
   "nbconvert_exporter": "python",
   "pygments_lexer": "ipython3",
   "version": "3.9.13"
  }
 },
 "nbformat": 4,
 "nbformat_minor": 5
}
